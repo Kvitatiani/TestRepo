{
 "cells": [
  {
   "cell_type": "code",
   "execution_count": 1,
   "metadata": {},
   "outputs": [
    {
     "name": "stdout",
     "output_type": "stream",
     "text": [
      "[-5.42, -3.08, 0.0, -3.64, -0.0, -4.03, -0.05, -5.44, -6.63, 4.27, -11.88, -0.41, 2.6, -4.1, -12.81, 0.22, 0.01, -7.12, -3.39, -5.5, 3.64, -0.36, -6.84, -9.06, -6.45, 3.29, -8.15, -4.27, -21.63, -2.04, 0.47, -0.59, -10.65, 4.49, -10.21, 2.5, 2.33, -7.94, -9.96, 62.92, -8.9, -24.04, 5.7, 2.42, -8.31, 1.92, -1.43, 5.56, -2.2, -7.91, 4.81, -0.76, 1.4, -0.07, -0.85, 3.49, -12.81, -3.47, -3.1, 17.34, -4.02, 8.02, -6.8, -0.42, 2.55, -4.18, 12.3, -3.25, -6.43, -1.84, 1.56, -4.32, -11.43, -3.57, -11.27, -0.97, -6.62, 123.72, -7.42, -1.37, -2.32, 4.23, -13.44, -4.5, 1.08, -15.6, -16.13, 1.16, -19.64, 6.6, 0.42, 8.38, -9.24, 3.43, -11.93, -3.54, 22.62, -7.28, -3.0, -11.3]\n"
     ]
    }
   ],
   "source": [
    "from scrapper import top100_crypto_7d, top100_crypto_names, top100_crypto_prices, top100_crypto_marketcap, top100_crypto_volume24h\n",
    "import pandas as pd\n",
    "import numpy as np\n",
    "import matplotlib.pyplot as plt\n",
    "import seaborn as sns\n",
    "sns.set()"
   ]
  },
  {
   "attachments": {},
   "cell_type": "markdown",
   "metadata": {},
   "source": [
    "# Creating Dataframe"
   ]
  },
  {
   "cell_type": "code",
   "execution_count": 2,
   "metadata": {},
   "outputs": [],
   "source": [
    "column_names = ['Name', 'Price', 'Market Cap', 'Volume 24h', '7d% Change']\n",
    "top100_crypto_df = pd.DataFrame(columns=column_names)\n",
    "top100_crypto_df['Name'] = top100_crypto_names\n",
    "top100_crypto_df['Price'] = top100_crypto_prices\n",
    "top100_crypto_df['Market Cap'] = top100_crypto_marketcap\n",
    "top100_crypto_df['Volume 24h'] = top100_crypto_volume24h\n",
    "top100_crypto_df['7d% Change'] = top100_crypto_7d\n",
    "# Fix the error name 'top100_crypto_df' is not defined\n"
   ]
  },
  {
   "cell_type": "code",
   "execution_count": 3,
   "metadata": {},
   "outputs": [
    {
     "name": "stdout",
     "output_type": "stream",
     "text": [
      "<class 'pandas.core.frame.DataFrame'>\n",
      "RangeIndex: 100 entries, 0 to 99\n",
      "Data columns (total 5 columns):\n",
      " #   Column      Non-Null Count  Dtype  \n",
      "---  ------      --------------  -----  \n",
      " 0   Name        100 non-null    object \n",
      " 1   Price       100 non-null    float64\n",
      " 2   Market Cap  100 non-null    float64\n",
      " 3   Volume 24h  100 non-null    float64\n",
      " 4   7d% Change  100 non-null    float64\n",
      "dtypes: float64(4), object(1)\n",
      "memory usage: 4.0+ KB\n"
     ]
    },
    {
     "data": {
      "text/html": [
       "<div>\n",
       "<style scoped>\n",
       "    .dataframe tbody tr th:only-of-type {\n",
       "        vertical-align: middle;\n",
       "    }\n",
       "\n",
       "    .dataframe tbody tr th {\n",
       "        vertical-align: top;\n",
       "    }\n",
       "\n",
       "    .dataframe thead th {\n",
       "        text-align: right;\n",
       "    }\n",
       "</style>\n",
       "<table border=\"1\" class=\"dataframe\">\n",
       "  <thead>\n",
       "    <tr style=\"text-align: right;\">\n",
       "      <th></th>\n",
       "      <th>Name</th>\n",
       "      <th>Price</th>\n",
       "      <th>Market Cap (billion)</th>\n",
       "      <th>Volume 24h (billion)</th>\n",
       "      <th>7d% Change</th>\n",
       "    </tr>\n",
       "  </thead>\n",
       "  <tbody>\n",
       "    <tr>\n",
       "      <th>0</th>\n",
       "      <td>Bitcoin</td>\n",
       "      <td>22542.91863</td>\n",
       "      <td>434.76</td>\n",
       "      <td>28.40</td>\n",
       "      <td>-5.42</td>\n",
       "    </tr>\n",
       "    <tr>\n",
       "      <th>1</th>\n",
       "      <td>Ethereum</td>\n",
       "      <td>1624.65457</td>\n",
       "      <td>198.82</td>\n",
       "      <td>7.85</td>\n",
       "      <td>-3.08</td>\n",
       "    </tr>\n",
       "    <tr>\n",
       "      <th>2</th>\n",
       "      <td>Tether</td>\n",
       "      <td>1.00015</td>\n",
       "      <td>68.19</td>\n",
       "      <td>40.34</td>\n",
       "      <td>0.00</td>\n",
       "    </tr>\n",
       "    <tr>\n",
       "      <th>3</th>\n",
       "      <td>BNB</td>\n",
       "      <td>317.17615</td>\n",
       "      <td>50.08</td>\n",
       "      <td>0.64</td>\n",
       "      <td>-3.64</td>\n",
       "    </tr>\n",
       "    <tr>\n",
       "      <th>4</th>\n",
       "      <td>USD Coin</td>\n",
       "      <td>1.00003</td>\n",
       "      <td>41.52</td>\n",
       "      <td>3.73</td>\n",
       "      <td>-0.00</td>\n",
       "    </tr>\n",
       "  </tbody>\n",
       "</table>\n",
       "</div>"
      ],
      "text/plain": [
       "       Name        Price  Market Cap (billion)  Volume 24h (billion)  \\\n",
       "0   Bitcoin  22542.91863                434.76                 28.40   \n",
       "1  Ethereum   1624.65457                198.82                  7.85   \n",
       "2    Tether      1.00015                 68.19                 40.34   \n",
       "3       BNB    317.17615                 50.08                  0.64   \n",
       "4  USD Coin      1.00003                 41.52                  3.73   \n",
       "\n",
       "   7d% Change  \n",
       "0       -5.42  \n",
       "1       -3.08  \n",
       "2        0.00  \n",
       "3       -3.64  \n",
       "4       -0.00  "
      ]
     },
     "execution_count": 3,
     "metadata": {},
     "output_type": "execute_result"
    }
   ],
   "source": [
    "top100_crypto_df.head()\n",
    "\n",
    "df_checkpoint = top100_crypto_df.copy()\n",
    "df_checkpoint.info()\n",
    "# Style market cap and volume24h columns so numbers are displayed properly\n",
    "df_checkpoint['Volume 24h'] = df_checkpoint['Volume 24h'].apply(lambda x: x/1000000000)\n",
    "df_checkpoint['Market Cap'] = df_checkpoint['Market Cap'].apply(lambda x: x/1000000000)\n",
    "#change column names volume 24h and market cap to volume 24h (billion) and market cap (billion)\n",
    "df_checkpoint.rename(columns={'Volume 24h': 'Volume 24h (billion)', 'Market Cap': 'Market Cap (billion)'}, inplace=True)\n",
    "df_checkpoint['Market Cap (billion)'] = df_checkpoint['Market Cap (billion)'].apply(lambda x: round(x, 2))\n",
    "df_checkpoint['Volume 24h (billion)'] = df_checkpoint['Volume 24h (billion)'].apply(lambda x: round(x, 2))\n",
    "df_checkpoint.head()"
   ]
  },
  {
   "cell_type": "code",
   "execution_count": 4,
   "metadata": {},
   "outputs": [
    {
     "data": {
      "text/html": [
       "<div>\n",
       "<style scoped>\n",
       "    .dataframe tbody tr th:only-of-type {\n",
       "        vertical-align: middle;\n",
       "    }\n",
       "\n",
       "    .dataframe tbody tr th {\n",
       "        vertical-align: top;\n",
       "    }\n",
       "\n",
       "    .dataframe thead th {\n",
       "        text-align: right;\n",
       "    }\n",
       "</style>\n",
       "<table border=\"1\" class=\"dataframe\">\n",
       "  <thead>\n",
       "    <tr style=\"text-align: right;\">\n",
       "      <th></th>\n",
       "      <th>Name</th>\n",
       "      <th>Price</th>\n",
       "      <th>Market Cap (billion)</th>\n",
       "      <th>Volume 24h (billion)</th>\n",
       "      <th>7d% Change</th>\n",
       "    </tr>\n",
       "  </thead>\n",
       "  <tbody>\n",
       "    <tr>\n",
       "      <th>39</th>\n",
       "      <td>The Graph</td>\n",
       "      <td>0.15905</td>\n",
       "      <td>1.40</td>\n",
       "      <td>0.40</td>\n",
       "      <td>62.92</td>\n",
       "    </tr>\n",
       "    <tr>\n",
       "      <th>59</th>\n",
       "      <td>ImmutableX</td>\n",
       "      <td>1.02173</td>\n",
       "      <td>0.81</td>\n",
       "      <td>0.08</td>\n",
       "      <td>17.34</td>\n",
       "    </tr>\n",
       "    <tr>\n",
       "      <th>66</th>\n",
       "      <td>Neo</td>\n",
       "      <td>9.82318</td>\n",
       "      <td>0.69</td>\n",
       "      <td>0.24</td>\n",
       "      <td>12.30</td>\n",
       "    </tr>\n",
       "    <tr>\n",
       "      <th>77</th>\n",
       "      <td>SingularityNET</td>\n",
       "      <td>0.44248</td>\n",
       "      <td>0.53</td>\n",
       "      <td>0.34</td>\n",
       "      <td>123.72</td>\n",
       "    </tr>\n",
       "    <tr>\n",
       "      <th>96</th>\n",
       "      <td>Oasis Network</td>\n",
       "      <td>0.06974</td>\n",
       "      <td>0.40</td>\n",
       "      <td>0.18</td>\n",
       "      <td>22.62</td>\n",
       "    </tr>\n",
       "  </tbody>\n",
       "</table>\n",
       "</div>"
      ],
      "text/plain": [
       "              Name    Price  Market Cap (billion)  Volume 24h (billion)  \\\n",
       "39       The Graph  0.15905                  1.40                  0.40   \n",
       "59      ImmutableX  1.02173                  0.81                  0.08   \n",
       "66             Neo  9.82318                  0.69                  0.24   \n",
       "77  SingularityNET  0.44248                  0.53                  0.34   \n",
       "96   Oasis Network  0.06974                  0.40                  0.18   \n",
       "\n",
       "    7d% Change  \n",
       "39       62.92  \n",
       "59       17.34  \n",
       "66       12.30  \n",
       "77      123.72  \n",
       "96       22.62  "
      ]
     },
     "execution_count": 4,
     "metadata": {},
     "output_type": "execute_result"
    }
   ],
   "source": [
    "# Let's group the crypto that have 7d% change more than 10%\n",
    "top10_growers_7d = df_checkpoint[df_checkpoint['7d% Change'] > 10]\n",
    "top10_growers_7d"
   ]
  },
  {
   "cell_type": "code",
   "execution_count": 5,
   "metadata": {},
   "outputs": [
    {
     "data": {
      "image/png": "[encoded data removed]",
      "text/plain": [
       "<Figure size 640x480 with 1 Axes>"
      ]
     },
     "metadata": {},
     "output_type": "display_data"
    }
   ],
   "source": [
    "# Let's create a pie chart to visualize the top 10 crypto that have 7d% change more than 10%, display the market cap of each crypto in percentage and value\n",
    "values = top10_growers_7d['Market Cap (billion)']\n",
    "labels = top10_growers_7d['Name']\n",
    "plt.pie(values, labels=labels)\n",
    "plt.show()\n"
   ]
  }
 ],
 "metadata": {
  "kernelspec": {
   "display_name": "venv",
   "language": "python",
   "name": "python3"
  },
  "language_info": {
   "codemirror_mode": {
    "name": "ipython",
    "version": 3
   },
   "file_extension": ".py",
   "mimetype": "text/x-python",
   "name": "python",
   "nbconvert_exporter": "python",
   "pygments_lexer": "ipython3",
   "version": "3.11.1"
  },
  "orig_nbformat": 4,
  "vscode": {
   "interpreter": {
    "hash": "eed73debea9cd0027002b3ed60355d9632805aa3d814bca58fb4e7409ebff10c"
   }
  }
 },
 "nbformat": 4,
 "nbformat_minor": 2
}
